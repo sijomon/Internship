{
 "cells": [
  {
   "cell_type": "code",
   "execution_count": 9,
   "metadata": {},
   "outputs": [
    {
     "name": "stdout",
     "output_type": "stream",
     "text": [
      "Enter a number >>>4\n",
      "Factorial of 4 is 24\n"
     ]
    }
   ],
   "source": [
    "# factorial of given number\n",
    "import math\n",
    " \n",
    "def factorial(n):\n",
    "    return(math.factorial(n))\n",
    " \n",
    "\n",
    "numx = int(input(\"Enter a number >>>\"))\n",
    "print(\"Factorial of\", numx, \"is\",factorial(numx))\n"
   ]
  },
  {
   "cell_type": "code",
   "execution_count": 13,
   "metadata": {},
   "outputs": [
    {
     "name": "stdout",
     "output_type": "stream",
     "text": [
      "Enter a number >>>8\n",
      "8  is not a prime number\n"
     ]
    }
   ],
   "source": [
    "#To check number is prime or not\n",
    "\n",
    "numx = int(input(\"Enter a number >>>\"))\n",
    "flag =0 \n",
    "if(numx > 1):\n",
    "    for i in range(2, int(numx/2) + 1):\n",
    "        if (numx % i == 0):\n",
    "            flag = 1\n",
    "            break\n",
    "    if (flag == 0):\n",
    "        print(numx, \" is a prime number\")\n",
    "    else:\n",
    "        print(numx,\" is not a prime number\")\n",
    "else:\n",
    "    print(\"wrong number\")\n",
    "    \n"
   ]
  },
  {
   "cell_type": "code",
   "execution_count": 17,
   "metadata": {},
   "outputs": [
    {
     "name": "stdout",
     "output_type": "stream",
     "text": [
      "Enter a string >>>malaYAlam\n",
      "The string is a palindrome.\n"
     ]
    }
   ],
   "source": [
    "# Program to check if a string is palindrome or not\n",
    "\n",
    "\n",
    "strx = str(input(\"Enter a string >>>\"))\n",
    "\n",
    "# make it suitable for caseless comparison\n",
    "strx = strx.casefold()\n",
    "\n",
    "# reverse the string\n",
    "rev_strx = reversed(strx)\n",
    "\n",
    "# check if the string is equal to its reverse\n",
    "if list(strx) == list(rev_strx):\n",
    "   print(\"The string is a palindrome.\")\n",
    "else:\n",
    "   print(\"The string is not a palindrome.\")\n"
   ]
  },
  {
   "cell_type": "code",
   "execution_count": 18,
   "metadata": {},
   "outputs": [
    {
     "name": "stdout",
     "output_type": "stream",
     "text": [
      "Enter base: 4\n",
      "Enter height: 5\n",
      "Hypotenuse = 6.4031242374328485\n"
     ]
    }
   ],
   "source": [
    "#program to get the third side of right-angled triangle from two given sides\n",
    "\n",
    "import math\n",
    "\n",
    "a = float(input(\"Enter base: \"))\n",
    "b = float(input(\"Enter height: \"))\n",
    "\n",
    "c = math.sqrt(a ** 2 + b ** 2)\n",
    "\n",
    "print(\"Hypotenuse =\", c)"
   ]
  },
  {
   "cell_type": "code",
   "execution_count": 20,
   "metadata": {},
   "outputs": [
    {
     "name": "stdout",
     "output_type": "stream",
     "text": [
      "Enter a string: googleinindia\n",
      "Frequency of each of the characters present in a given string  {'g': 2, 'o': 2, 'l': 1, 'e': 1, 'i': 3, 'n': 2, 'd': 1, 'a': 1}\n"
     ]
    }
   ],
   "source": [
    "#python program to print the frequency of each of the characters present in a given string\n",
    "\n",
    "def charFrequency(userInput):\n",
    "    userInput = userInput.lower()\n",
    "    dict = {}\n",
    "    for char in userInput:\n",
    "        keys = dict.keys()\n",
    "        if char in keys:\n",
    "            dict[char] += 1\n",
    "        else:\n",
    "            dict[char] = 1\n",
    "    return dict\n",
    "\n",
    "if __name__ == '__main__':\n",
    "    userInput = str(input('Enter a string: '))\n",
    "    print(\"Frequency of each of the characters present in a given string \", charFrequency(userInput))"
   ]
  }
 ],
 "metadata": {
  "kernelspec": {
   "display_name": "Python 3",
   "language": "python",
   "name": "python3"
  },
  "language_info": {
   "codemirror_mode": {
    "name": "ipython",
    "version": 3
   },
   "file_extension": ".py",
   "mimetype": "text/x-python",
   "name": "python",
   "nbconvert_exporter": "python",
   "pygments_lexer": "ipython3",
   "version": "3.8.5"
  }
 },
 "nbformat": 4,
 "nbformat_minor": 4
}
